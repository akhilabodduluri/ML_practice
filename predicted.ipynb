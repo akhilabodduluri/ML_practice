{
  "nbformat": 4,
  "nbformat_minor": 0,
  "metadata": {
    "colab": {
      "provenance": [],
      "authorship_tag": "ABX9TyNQ+lf7XPdYCTsggfgbf09l",
      "include_colab_link": true
    },
    "kernelspec": {
      "name": "python3",
      "display_name": "Python 3"
    },
    "language_info": {
      "name": "python"
    }
  },
  "cells": [
    {
      "cell_type": "markdown",
      "metadata": {
        "id": "view-in-github",
        "colab_type": "text"
      },
      "source": [
        "<a href=\"https://colab.research.google.com/github/akhilabodduluri/ML_practice/blob/main/predicted.ipynb\" target=\"_parent\"><img src=\"https://colab.research.google.com/assets/colab-badge.svg\" alt=\"Open In Colab\"/></a>"
      ]
    },
    {
      "cell_type": "code",
      "execution_count": 1,
      "metadata": {
        "id": "w-yvT5YNBASr"
      },
      "outputs": [],
      "source": [
        "import numpy as np\n",
        "import tensorflow as tf\n",
        "from tensorflow.keras.preprocessing.text import Tokenizer\n",
        "from tensorflow.keras.preprocessing.sequence import pad_sequences\n",
        "from tensorflow.keras.models import Sequential\n",
        "from tensorflow.keras.layers import Embedding, LSTM, Dense"
      ]
    },
    {
      "cell_type": "code",
      "source": [
        "with open('/content/sherlock.txt','r',encoding='utf-8') as file:\n",
        "  text = file.read()"
      ],
      "metadata": {
        "id": "EqGRMr4cBiNY"
      },
      "execution_count": 2,
      "outputs": []
    },
    {
      "cell_type": "code",
      "source": [
        "tokenizer = Tokenizer()\n",
        "tokenizer.fit_on_texts([text])\n",
        "total_words = len(tokenizer.word_index) + 1"
      ],
      "metadata": {
        "id": "FoOrS3-qCi1h"
      },
      "execution_count": 3,
      "outputs": []
    },
    {
      "cell_type": "code",
      "source": [
        "input_sequences = []\n",
        "for line in text.split('\\n'):\n",
        "    token_list = tokenizer.texts_to_sequences([line])[0]\n",
        "    for i in range(1, len(token_list)):\n",
        "       n_gram_sequence = token_list[:i+1]\n",
        "       input_sequences.append(n_gram_sequence)"
      ],
      "metadata": {
        "id": "JWO94RbMCnlD"
      },
      "execution_count": 4,
      "outputs": []
    },
    {
      "cell_type": "code",
      "source": [
        "max_sequence_len = max([len(seq) for seq in input_sequences])\n",
        "input_sequences = np.array(pad_sequences(input_sequences,\n",
        "maxlen=max_sequence_len, padding='pre'))"
      ],
      "metadata": {
        "id": "emK5rxQYDFhO"
      },
      "execution_count": 5,
      "outputs": []
    },
    {
      "cell_type": "code",
      "source": [
        "X = input_sequences[:, :-1]\n",
        "y = input_sequences[:, -1]"
      ],
      "metadata": {
        "id": "e-dxCcB-DTia"
      },
      "execution_count": 6,
      "outputs": []
    },
    {
      "cell_type": "code",
      "source": [
        "y = np.array(tf.keras.utils.to_categorical(y, num_classes=total_words))"
      ],
      "metadata": {
        "id": "tNF5A0VsDYD_"
      },
      "execution_count": 7,
      "outputs": []
    },
    {
      "cell_type": "code",
      "source": [
        "model = Sequential()\n",
        "model.add(Embedding(total_words, 100, input_length=max_sequence_len-1))\n",
        "model.add(LSTM(150))\n",
        "model.add(Dense(total_words, activation='softmax'))\n",
        "print(model.summary())"
      ],
      "metadata": {
        "colab": {
          "base_uri": "https://localhost:8080/"
        },
        "id": "iqqCmWmtDcvs",
        "outputId": "fae0c5d3-3f7b-4602-e287-f6424f17a966"
      },
      "execution_count": 8,
      "outputs": [
        {
          "output_type": "stream",
          "name": "stdout",
          "text": [
            "Model: \"sequential\"\n",
            "_________________________________________________________________\n",
            " Layer (type)                Output Shape              Param #   \n",
            "=================================================================\n",
            " embedding (Embedding)       (None, 16, 100)           846400    \n",
            "                                                                 \n",
            " lstm (LSTM)                 (None, 150)               150600    \n",
            "                                                                 \n",
            " dense (Dense)               (None, 8464)              1278064   \n",
            "                                                                 \n",
            "=================================================================\n",
            "Total params: 2,275,064\n",
            "Trainable params: 2,275,064\n",
            "Non-trainable params: 0\n",
            "_________________________________________________________________\n",
            "None\n"
          ]
        }
      ]
    },
    {
      "cell_type": "code",
      "source": [
        "model.compile(loss='categorical_crossentropy', optimizer='adam',\n",
        "metrics=['accuracy'])\n",
        "model.fit(X, y, epochs=10, verbose=1)"
      ],
      "metadata": {
        "colab": {
          "base_uri": "https://localhost:8080/"
        },
        "id": "pRi3arYYDqlx",
        "outputId": "1870dc4d-5d0b-4eb6-80df-f3a0efcce42b"
      },
      "execution_count": 9,
      "outputs": [
        {
          "output_type": "stream",
          "name": "stdout",
          "text": [
            "Epoch 1/10\n",
            "3084/3084 [==============================] - 255s 81ms/step - loss: 6.2700 - accuracy: 0.0771\n",
            "Epoch 2/10\n",
            "3084/3084 [==============================] - 226s 73ms/step - loss: 5.5277 - accuracy: 0.1253\n",
            "Epoch 3/10\n",
            "3084/3084 [==============================] - 222s 72ms/step - loss: 5.1405 - accuracy: 0.1478\n",
            "Epoch 4/10\n",
            "3084/3084 [==============================] - 222s 72ms/step - loss: 4.8022 - accuracy: 0.1678\n",
            "Epoch 5/10\n",
            "3084/3084 [==============================] - 223s 72ms/step - loss: 4.4896 - accuracy: 0.1869\n",
            "Epoch 6/10\n",
            "3084/3084 [==============================] - 223s 72ms/step - loss: 4.1948 - accuracy: 0.2075\n",
            "Epoch 7/10\n",
            "3084/3084 [==============================] - 221s 72ms/step - loss: 3.9123 - accuracy: 0.2330\n",
            "Epoch 8/10\n",
            "3084/3084 [==============================] - 222s 72ms/step - loss: 3.6509 - accuracy: 0.2646\n",
            "Epoch 9/10\n",
            "3084/3084 [==============================] - 223s 72ms/step - loss: 3.4055 - accuracy: 0.2976\n",
            "Epoch 10/10\n",
            "3084/3084 [==============================] - 221s 72ms/step - loss: 3.1771 - accuracy: 0.3337\n"
          ]
        },
        {
          "output_type": "execute_result",
          "data": {
            "text/plain": [
              "<keras.callbacks.History at 0x79f49641be20>"
            ]
          },
          "metadata": {},
          "execution_count": 9
        }
      ]
    },
    {
      "cell_type": "code",
      "source": [
        "seed_text = \"i am akhila\";\n",
        "next_words = 2\n",
        "for _ in range(next_words):\n",
        "   token_list = tokenizer.texts_to_sequences([seed_text])[0]\n",
        "   token_list = pad_sequences([token_list], maxlen=max_sequence_len-1,\n",
        "padding='pre')\n",
        "   predicted = np.argmax(model.predict(token_list), axis=-1)\n",
        "   output_word =\"\";\n",
        "   for word, index in tokenizer.word_index.items():\n",
        "       if index == predicted:\n",
        "          output_word = word\n",
        "          break\n",
        "   seed_text += \" \" + output_word\n",
        "print(seed_text)"
      ],
      "metadata": {
        "colab": {
          "base_uri": "https://localhost:8080/"
        },
        "id": "OAeQ82C2EDAG",
        "outputId": "e1329254-3cfa-4f4b-e8b4-bf3387d7d545"
      },
      "execution_count": 13,
      "outputs": [
        {
          "output_type": "stream",
          "name": "stdout",
          "text": [
            "1/1 [==============================] - 0s 26ms/step\n",
            "1/1 [==============================] - 0s 25ms/step\n",
            "i am akhila afraid that\n"
          ]
        }
      ]
    }
  ]
}